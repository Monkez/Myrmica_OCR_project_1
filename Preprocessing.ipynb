{
 "cells": [
  {
   "cell_type": "code",
   "execution_count": 1,
   "metadata": {
    "ExecuteTime": {
     "end_time": "2021-04-13T16:35:34.884476Z",
     "start_time": "2021-04-13T16:35:28.642651Z"
    }
   },
   "outputs": [],
   "source": [
    "import text_detection\n",
    "import pickle\n",
    "import cv2\n",
    "import numpy as np\n",
    "from PIL import Image, ImageDraw\n",
    "reader = text_detection.Reader(['vi'])\n",
    "import matplotlib.pyplot as plt\n",
    "import time\n",
    "import imutils\n",
    "from glob import glob as gl\n",
    "SHOW_IMAGE= True\n",
    "font = cv2.FONT_HERSHEY_SIMPLEX"
   ]
  },
  {
   "cell_type": "code",
   "execution_count": 4,
   "metadata": {
    "ExecuteTime": {
     "end_time": "2021-04-13T16:35:57.779669Z",
     "start_time": "2021-04-13T16:35:55.552448Z"
    }
   },
   "outputs": [
    {
     "name": "stdout",
     "output_type": "stream",
     "text": [
      "File exists: C:\\Users\\tiend\\.cache/gdown\\https-COLON--SLASH--SLASH-drive.google.com-SLASH-uc-QUESTION-id-EQUAL-13327Y1tz1ohsm5YZMyXVMPIOjoOA0OaA\n"
     ]
    }
   ],
   "source": [
    "from text_recognition.tool.predictor import Predictor\n",
    "from text_recognition.tool.config import Cfg\n",
    "config = Cfg.load_config_from_name('vgg_transformer')\n",
    "config['weights'] = 'https://drive.google.com/uc?id=13327Y1tz1ohsm5YZMyXVMPIOjoOA0OaA'\n",
    "config['cnn']['pretrained']=False\n",
    "config['device'] = 'cpu'\n",
    "config['predictor']['beamsearch']=False\n",
    "detector = Predictor(config)"
   ]
  },
  {
   "cell_type": "code",
   "execution_count": null,
   "metadata": {
    "ExecuteTime": {
     "end_time": "2021-04-13T16:31:47.362700Z",
     "start_time": "2021-04-13T16:31:47.347700Z"
    },
    "code_folding": [
     0,
     15,
     21,
     33,
     41
    ],
    "scrolled": false
   },
   "outputs": [],
   "source": [
    "def auto_canny(image, sigma=0.33):\n",
    "        # compute the median of the single channel pixel intensities\n",
    "        v = np.median(image)\n",
    "\n",
    "        # apply automatic Canny edge detection using the computed median\n",
    "        lower = int(max(0, (1.0 - sigma) * v))\n",
    "        upper = int(min(255, (1.0 + sigma) * v))\n",
    "        edged = cv2.Canny(image, lower, upper)\n",
    "\n",
    "        # return the edged image\n",
    "        return edged\n",
    "    \n",
    "def get_line_info(line):\n",
    "    x1,y1,x2,y2 = line\n",
    "    length = np.sqrt((x1-x2)**2+(y1-y2)**2)\n",
    "    if x1 == x2:\n",
    "        return 90, length\n",
    "    angle = (np.arctan((y2-y1)/(x1-x2))*180/np.pi)\n",
    "    return angle, length\n",
    "\n",
    "def document_alignment(img):\n",
    "    img = cv2.resize(img,  (1500, 1900))\n",
    "    img = img[:, :, ::-1]\n",
    "    img_show = img.copy()\n",
    "    gray = cv2.cvtColor(img_show,cv2.COLOR_BGR2GRAY)\n",
    "    edges = cv2.Canny(gray, 50, 150, apertureSize = 3)\n",
    "    kernel = np.ones((5,5),np.uint8)\n",
    "    edges = cv2.morphologyEx(edges, cv2.MORPH_CLOSE, kernel)\n",
    "    edges = cv2.dilate(edges,kernel,iterations = 1)\n",
    "    ret2,edges = cv2.threshold(edges,0,255,cv2.THRESH_BINARY+cv2.THRESH_OTSU)\n",
    "    edges[:, 0:40] = 0\n",
    "    edges[:, -40:] = 0\n",
    "    minLineLength = 50\n",
    "    maxLineGap = 500\n",
    "    lines = cv2.HoughLinesP(edges,1, np.pi/360, 200 , minLineLength, maxLineGap)\n",
    "    h_lines = []\n",
    "    for line in lines:\n",
    "        x1,y1,x2,y2 = line[0]\n",
    "        angle = 90\n",
    "        angle, length = get_line_info(line[0])\n",
    "        if abs(angle)>80:\n",
    "            h_lines.append([angle, length])\n",
    "            cv2.line(img_show,(x1,y1),(x2,y2),(0,255,0),4)\n",
    "    \n",
    "    h_lines = np.array(h_lines)\n",
    "    arg_max = np.argsort(h_lines[:, 1])\n",
    "    mean_angle = np.mean(h_lines[arg_max[-3:]][:, 0])\n",
    "    angle = mean_angle-90\n",
    "    aligned= imutils.rotate_bound(img, angle)\n",
    "    \n",
    "    return aligned, mean_angle, img_show"
   ]
  },
  {
   "cell_type": "code",
   "execution_count": null,
   "metadata": {
    "ExecuteTime": {
     "end_time": "2021-04-13T16:31:47.393700Z",
     "start_time": "2021-04-13T16:31:47.363700Z"
    },
    "code_folding": [
     0,
     4,
     17,
     35,
     48,
     71,
     79,
     85
    ],
    "scrolled": false
   },
   "outputs": [],
   "source": [
    "def show(np_img, name=\"image\", show=SHOW_IMAGE):\n",
    "    if show:\n",
    "        Image.fromarray(np_img).show(name)\n",
    "\n",
    "def draw_image(image, list_box, list_label = False, is_show=False):\n",
    "    image_c = image.copy()\n",
    "    stt = 0\n",
    "    for box in list_box:\n",
    "        cv2.rectangle(image_c,box[0], box[1], (0,0,255), 2)\n",
    "        if list_label :\n",
    "            image_c = cv2.putText(image_c, str(stt), box[0], font,  \n",
    "                   1, (0, 255, 0), 1, cv2.LINE_AA)\n",
    "            stt+=1\n",
    "    if is_show:\n",
    "        show(image_c)\n",
    "    return image_c\n",
    "\n",
    "def convert_to_cv_box(list_box):\n",
    "    results = []\n",
    "    for box in list_box:\n",
    "        box = [(box[0], box[2]), (box[1], box[3])]\n",
    "        results.append(box)\n",
    "    return results\n",
    "\n",
    "def get_hpos(box):\n",
    "    return (box[1][1]+box[0][1])/2\n",
    "\n",
    "def get_vpos(box):\n",
    "    return (box[1][0]+box[0][0])/2\n",
    "\n",
    "def box_merge(box1, box2):\n",
    "    p1 = (min(box1[0][0], box2[0][0]), min(box1[0][1], box2[0][1]))\n",
    "    p2 = (max(box1[1][0], box2[1][0]), max(box1[1][1], box2[1][1]))\n",
    "    return [p1, p2]\n",
    "\n",
    "def sort_box_by_hpos(list_box, max_grap=10):\n",
    "    heights = np.zeros(len(list_box))\n",
    "    for i in range(len(list_box)):\n",
    "        heights[i] = get_hpos(list_box[i])\n",
    "    \n",
    "    arg_sort = np.argsort(heights)\n",
    "    list_box_new = []\n",
    "    for i in range(len(list_box)):\n",
    "        list_box_new.append(list_box[arg_sort[i]])\n",
    "    list_box = list_box_new, heights[arg_sort]\n",
    "    \n",
    "    return  list_box\n",
    "\n",
    "def key_matching(list_box, heights):\n",
    "    results = []\n",
    "    for i in range(len(list_box)):\n",
    "        vpos = get_vpos(list_box[i])\n",
    "        line = []\n",
    "\n",
    "        if 700< vpos<900:\n",
    "            values = [list_box[i]]\n",
    "            hpos = heights[i]\n",
    "\n",
    "            for j in range(len(list_box)):\n",
    "                if hpos-16 < heights[j]<hpos+16:\n",
    "                           line.append(list_box[j])\n",
    "            for box in line:\n",
    "                this_vpos = get_vpos(box)\n",
    "                if this_vpos>vpos+20:\n",
    "                    values.append(box)\n",
    "            if len(values) == 3:\n",
    "                if get_vpos(values[1])>get_vpos(values[2]):\n",
    "                    values = [values[0], values[2], values[1]]\n",
    "                results.append(values)\n",
    "    return  results\n",
    "\n",
    "def get_area(box):\n",
    "    return (box[1][0]-box[0][0])*(box[1][1]-box[0][1])\n",
    "\n",
    "def text_recognition(img):\n",
    "    img =  Image.fromarray(img)\n",
    "    s = detector.predict(img)\n",
    "    return s\n",
    "\n",
    "def box_to_text(img, box):\n",
    "    x1, y1= box[0]\n",
    "    x2, y2 = box[1]\n",
    "    crop = img[y1:y2, x1:x2]\n",
    "    return text_recognition(crop)\n",
    "    \n",
    "def infor_extract(aligned):\n",
    "    aligned = cv2.resize(aligned, (1500, 1900))\n",
    "    horizontal_list, free_list = reader.readtext(aligned, text_threshold = 0.2, link_threshold=0.1, add_margin = 0.2, detect_only=True)\n",
    "    img_show = aligned.copy()\n",
    "    horizontal_list1 = convert_to_cv_box(horizontal_list)\n",
    "    horizontal_list2 = []\n",
    "    for box in horizontal_list1:\n",
    "        if get_area(box)>200:\n",
    "            horizontal_list2.append(box)\n",
    "    sorted_boxs, heights = sort_box_by_hpos(horizontal_list2, max_grap = 3)\n",
    "    results = key_matching(sorted_boxs, heights)\n",
    "    output = {}\n",
    "    for i in range(len(results)):\n",
    "        key = box_to_text(aligned, results[i][0])\n",
    "        val1= box_to_text(aligned, results[i][1])\n",
    "        val2 = box_to_text(aligned, results[i][2])\n",
    "        if key.isdigit():\n",
    "            output[key] = [results[i][0], [results[i][1], val1],[results[i][2], val2]]\n",
    "            \n",
    "    keys = output.keys()\n",
    "    for key in keys:\n",
    "        key_box = output[key][0]\n",
    "        cv2.rectangle(aligned, key_box[0], key_box[1], (0,0,255), 2)\n",
    "        for value in output[key][1:]:\n",
    "            box = value[0]\n",
    "            cv2.rectangle(aligned, box[0], box[1], (0,255,0), 2)\n",
    "    return output, aligned\n"
   ]
  },
  {
   "cell_type": "code",
   "execution_count": null,
   "metadata": {
    "ExecuteTime": {
     "end_time": "2021-04-13T16:32:08.588537Z",
     "start_time": "2021-04-13T16:31:47.394701Z"
    }
   },
   "outputs": [],
   "source": [
    "files = gl(\"images/*\")\n",
    "img = cv2.imread(files[0], 1)\n",
    "aligned, mean_angle, img_show = document_alignment(img)\n",
    "output, aligned = infor_extract(aligned)\n",
    "show(aligned)\n",
    "keys = output.keys()\n",
    "for key in keys:\n",
    "    print(\"Mã sô:\", key, \"Số cuối kỳ:\", output[key][1][1], \"Số đầu năm:\", output[key][2][1])"
   ]
  },
  {
   "cell_type": "code",
   "execution_count": null,
   "metadata": {
    "ExecuteTime": {
     "end_time": "2021-04-13T16:32:08.604508Z",
     "start_time": "2021-04-13T16:32:08.591509Z"
    }
   },
   "outputs": [],
   "source": [
    "print(output)"
   ]
  }
 ],
 "metadata": {
  "kernelspec": {
   "display_name": "Python 3",
   "language": "python",
   "name": "python3"
  },
  "language_info": {
   "codemirror_mode": {
    "name": "ipython",
    "version": 3
   },
   "file_extension": ".py",
   "mimetype": "text/x-python",
   "name": "python",
   "nbconvert_exporter": "python",
   "pygments_lexer": "ipython3",
   "version": "3.7.6"
  }
 },
 "nbformat": 4,
 "nbformat_minor": 2
}
