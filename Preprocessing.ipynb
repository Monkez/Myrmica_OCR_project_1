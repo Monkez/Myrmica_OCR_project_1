{
 "cells": [
  {
   "cell_type": "code",
   "execution_count": 1,
   "metadata": {
    "ExecuteTime": {
     "end_time": "2021-04-13T16:14:21.133449Z",
     "start_time": "2021-04-13T16:14:14.960068Z"
    }
   },
   "outputs": [],
   "source": [
    "import easyocr\n",
    "import pickle\n",
    "import cv2\n",
    "import numpy as np\n",
    "from PIL import Image, ImageDraw\n",
    "reader = easyocr.Reader(['vi'])\n",
    "import matplotlib.pyplot as plt\n",
    "import time\n",
    "import imutils\n",
    "from glob import glob as gl\n",
    "SHOW_IMAGE= True\n",
    "font = cv2.FONT_HERSHEY_SIMPLEX"
   ]
  },
  {
   "cell_type": "code",
   "execution_count": 2,
   "metadata": {
    "ExecuteTime": {
     "end_time": "2021-04-13T16:14:24.910717Z",
     "start_time": "2021-04-13T16:14:21.873139Z"
    }
   },
   "outputs": [
    {
     "name": "stdout",
     "output_type": "stream",
     "text": [
      "File exists: C:\\Users\\tiend\\.cache/gdown\\https-COLON--SLASH--SLASH-drive.google.com-SLASH-uc-QUESTION-id-EQUAL-13327Y1tz1ohsm5YZMyXVMPIOjoOA0OaA\n"
     ]
    }
   ],
   "source": [
    "from vietocr.tool.predictor import Predictor\n",
    "from vietocr.tool.config import Cfg\n",
    "config = Cfg.load_config_from_name('vgg_transformer')\n",
    "config['weights'] = 'https://drive.google.com/uc?id=13327Y1tz1ohsm5YZMyXVMPIOjoOA0OaA'\n",
    "config['cnn']['pretrained']=False\n",
    "config['device'] = 'cpu'\n",
    "config['predictor']['beamsearch']=False\n",
    "detector = Predictor(config)"
   ]
  },
  {
   "cell_type": "code",
   "execution_count": 3,
   "metadata": {
    "ExecuteTime": {
     "end_time": "2021-04-13T16:14:27.205708Z",
     "start_time": "2021-04-13T16:14:27.187708Z"
    },
    "code_folding": [
     0,
     15,
     21,
     33,
     41
    ],
    "scrolled": false
   },
   "outputs": [],
   "source": [
    "def auto_canny(image, sigma=0.33):\n",
    "        # compute the median of the single channel pixel intensities\n",
    "        v = np.median(image)\n",
    "\n",
    "        # apply automatic Canny edge detection using the computed median\n",
    "        lower = int(max(0, (1.0 - sigma) * v))\n",
    "        upper = int(min(255, (1.0 + sigma) * v))\n",
    "        edged = cv2.Canny(image, lower, upper)\n",
    "\n",
    "        # return the edged image\n",
    "        return edged\n",
    "    \n",
    "def get_line_info(line):\n",
    "    x1,y1,x2,y2 = line\n",
    "    length = np.sqrt((x1-x2)**2+(y1-y2)**2)\n",
    "    if x1 == x2:\n",
    "        return 90, length\n",
    "    angle = (np.arctan((y2-y1)/(x1-x2))*180/np.pi)\n",
    "    return angle, length\n",
    "\n",
    "def document_alignment(img):\n",
    "    img = cv2.resize(img,  (1500, 1900))\n",
    "    img = img[:, :, ::-1]\n",
    "    img_show = img.copy()\n",
    "    gray = cv2.cvtColor(img_show,cv2.COLOR_BGR2GRAY)\n",
    "    edges = cv2.Canny(gray, 50, 150, apertureSize = 3)\n",
    "    kernel = np.ones((5,5),np.uint8)\n",
    "    edges = cv2.morphologyEx(edges, cv2.MORPH_CLOSE, kernel)\n",
    "    edges = cv2.dilate(edges,kernel,iterations = 1)\n",
    "    ret2,edges = cv2.threshold(edges,0,255,cv2.THRESH_BINARY+cv2.THRESH_OTSU)\n",
    "    edges[:, 0:40] = 0\n",
    "    edges[:, -40:] = 0\n",
    "    minLineLength = 50\n",
    "    maxLineGap = 500\n",
    "    lines = cv2.HoughLinesP(edges,1, np.pi/360, 200 , minLineLength, maxLineGap)\n",
    "    h_lines = []\n",
    "    for line in lines:\n",
    "        x1,y1,x2,y2 = line[0]\n",
    "        angle = 90\n",
    "        angle, length = get_line_info(line[0])\n",
    "        if abs(angle)>80:\n",
    "            h_lines.append([angle, length])\n",
    "            cv2.line(img_show,(x1,y1),(x2,y2),(0,255,0),4)\n",
    "    \n",
    "    h_lines = np.array(h_lines)\n",
    "    arg_max = np.argsort(h_lines[:, 1])\n",
    "    mean_angle = np.mean(h_lines[arg_max[-3:]][:, 0])\n",
    "    angle = mean_angle-90\n",
    "    aligned= imutils.rotate_bound(img, angle)\n",
    "    \n",
    "    return aligned, mean_angle, img_show"
   ]
  },
  {
   "cell_type": "code",
   "execution_count": 8,
   "metadata": {
    "ExecuteTime": {
     "end_time": "2021-04-13T16:19:37.220646Z",
     "start_time": "2021-04-13T16:19:37.192646Z"
    },
    "code_folding": [
     0,
     4,
     17,
     35,
     48,
     71,
     79,
     85
    ],
    "scrolled": false
   },
   "outputs": [],
   "source": [
    "def show(np_img, name=\"image\", show=SHOW_IMAGE):\n",
    "    if show:\n",
    "        Image.fromarray(np_img).show(name)\n",
    "\n",
    "def draw_image(image, list_box, list_label = False, is_show=False):\n",
    "    image_c = image.copy()\n",
    "    stt = 0\n",
    "    for box in list_box:\n",
    "        cv2.rectangle(image_c,box[0], box[1], (0,0,255), 2)\n",
    "        if list_label :\n",
    "            image_c = cv2.putText(image_c, str(stt), box[0], font,  \n",
    "                   1, (0, 255, 0), 1, cv2.LINE_AA)\n",
    "            stt+=1\n",
    "    if is_show:\n",
    "        show(image_c)\n",
    "    return image_c\n",
    "\n",
    "def convert_to_cv_box(list_box):\n",
    "    results = []\n",
    "    for box in list_box:\n",
    "        box = [(box[0], box[2]), (box[1], box[3])]\n",
    "        results.append(box)\n",
    "    return results\n",
    "\n",
    "def get_hpos(box):\n",
    "    return (box[1][1]+box[0][1])/2\n",
    "\n",
    "def get_vpos(box):\n",
    "    return (box[1][0]+box[0][0])/2\n",
    "\n",
    "def box_merge(box1, box2):\n",
    "    p1 = (min(box1[0][0], box2[0][0]), min(box1[0][1], box2[0][1]))\n",
    "    p2 = (max(box1[1][0], box2[1][0]), max(box1[1][1], box2[1][1]))\n",
    "    return [p1, p2]\n",
    "\n",
    "def sort_box_by_hpos(list_box, max_grap=10):\n",
    "    heights = np.zeros(len(list_box))\n",
    "    for i in range(len(list_box)):\n",
    "        heights[i] = get_hpos(list_box[i])\n",
    "    \n",
    "    arg_sort = np.argsort(heights)\n",
    "    list_box_new = []\n",
    "    for i in range(len(list_box)):\n",
    "        list_box_new.append(list_box[arg_sort[i]])\n",
    "    list_box = list_box_new, heights[arg_sort]\n",
    "    \n",
    "    return  list_box\n",
    "\n",
    "def key_matching(list_box, heights):\n",
    "    results = []\n",
    "    for i in range(len(list_box)):\n",
    "        vpos = get_vpos(list_box[i])\n",
    "        line = []\n",
    "\n",
    "        if 700< vpos<900:\n",
    "            values = [list_box[i]]\n",
    "            hpos = heights[i]\n",
    "\n",
    "            for j in range(len(list_box)):\n",
    "                if hpos-16 < heights[j]<hpos+16:\n",
    "                           line.append(list_box[j])\n",
    "            for box in line:\n",
    "                this_vpos = get_vpos(box)\n",
    "                if this_vpos>vpos+20:\n",
    "                    values.append(box)\n",
    "            if len(values) == 3:\n",
    "                if get_vpos(values[1])>get_vpos(values[2]):\n",
    "                    values = [values[0], values[2], values[1]]\n",
    "                results.append(values)\n",
    "    return  results\n",
    "\n",
    "def get_area(box):\n",
    "    return (box[1][0]-box[0][0])*(box[1][1]-box[0][1])\n",
    "\n",
    "def text_recognition(img):\n",
    "    img =  Image.fromarray(img)\n",
    "    s = detector.predict(img)\n",
    "    return s\n",
    "\n",
    "def box_to_text(img, box):\n",
    "    x1, y1= box[0]\n",
    "    x2, y2 = box[1]\n",
    "    crop = img[y1:y2, x1:x2]\n",
    "    return text_recognition(crop)\n",
    "    \n",
    "def infor_extract(aligned):\n",
    "    aligned = cv2.resize(aligned, (1500, 1900))\n",
    "    horizontal_list, free_list = reader.readtext(aligned, text_threshold = 0.2, link_threshold=0.1, add_margin = 0.2, detect_only=True)\n",
    "    img_show = aligned.copy()\n",
    "    horizontal_list1 = convert_to_cv_box(horizontal_list)\n",
    "    horizontal_list2 = []\n",
    "    for box in horizontal_list1:\n",
    "        if get_area(box)>200:\n",
    "            horizontal_list2.append(box)\n",
    "    sorted_boxs, heights = sort_box_by_hpos(horizontal_list2, max_grap = 3)\n",
    "    results = key_matching(sorted_boxs, heights)\n",
    "    output = {}\n",
    "    for i in range(len(results)):\n",
    "        key = box_to_text(aligned, results[i][0])\n",
    "        val1= box_to_text(aligned, results[i][1])\n",
    "        val2 = box_to_text(aligned, results[i][2])\n",
    "        if key.isdigit():\n",
    "            output[key] = [results[i][0], [results[i][1], val1],[results[i][2], val2]]\n",
    "            \n",
    "    keys = output.keys()\n",
    "    for key in keys:\n",
    "        key_box = output[key][0]\n",
    "        cv2.rectangle(aligned, key_box[0], key_box[1], (0,0,255), 2)\n",
    "        for value in output[key][1:]:\n",
    "            box = value[0]\n",
    "            cv2.rectangle(aligned, box[0], box[1], (0,255,0), 2)\n",
    "    return output, aligned\n"
   ]
  },
  {
   "cell_type": "code",
   "execution_count": 11,
   "metadata": {
    "ExecuteTime": {
     "end_time": "2021-04-13T16:22:13.387707Z",
     "start_time": "2021-04-13T16:21:55.348422Z"
    }
   },
   "outputs": [
    {
     "name": "stdout",
     "output_type": "stream",
     "text": [
      "Mã sô: 100 Số cuối kỳ: 1,231,209,865,239 Số đầu năm: 1,097,379,483,771\n",
      "Mã sô: 110 Số cuối kỳ: 57,858,877,402 Số đầu năm: 172,247,764,083\n",
      "Mã sô: 111 Số cuối kỳ: 41,009,938,653 Số đầu năm: 162,958,693,777\n",
      "Mã sô: 112 Số cuối kỳ: 16,848,938,749 Số đầu năm: 9,289,070,306\n",
      "Mã sô: 120 Số cuối kỳ: 334,054,946,631 Số đầu năm: 264,299,550,814\n",
      "Mã sô: 123 Số cuối kỳ: 334,054,946,631 Số đầu năm: 264,299,550,814\n",
      "Mã sô: 130 Số cuối kỳ: 476,376,268,617 Số đầu năm: 352,653,082,238\n",
      "Mã sô: 131 Số cuối kỳ: 182,909,298,193 Số đầu năm: 164,300,199,287\n",
      "Mã sô: 132 Số cuối kỳ: 157,081,844,563 Số đầu năm: 41,957,050,878\n",
      "Mã sô: 135 Số cuối kỳ: 57,971,293,683 Số đầu năm: 57,973,793,233\n",
      "Mã sô: 136 Số cuối kỳ: 86,460,716,249 Số đầu năm: 96,468,922,911\n",
      "Mã sô: 137 Số cuối kỳ: -8,046,884,071 Số đầu năm: -8,046,884,071\n",
      "Mã sô: 140 Số cuối kỳ: 342,665,675,743 Số đầu năm: 293,907,403,178\n",
      "Mã sô: 141 Số cuối kỳ: 342,665,675,743 Số đầu năm: 293,907,403,178\n",
      "Mã sô: 150 Số cuối kỳ: 20,254,096,846 Số đầu năm: 14,271,683,458\n",
      "Mã sô: 151 Số cuối kỳ: 535,252,727 Số đầu năm: 535,252,727\n",
      "Mã sô: 152 Số cuối kỳ: 18,337,475,077 Số đầu năm: 12,097,212,698\n",
      "Mã sô: 153 Số cuối kỳ: 1,381,369,042 Số đầu năm: 1,639,218,033\n",
      "Mã sô: 200 Số cuối kỳ: 485,399,255,997 Số đầu năm: 467,752,451,970\n",
      "Mã sô: 210 Số cuối kỳ: 3,606,902,550 Số đầu năm: 3,606,902,550\n",
      "Mã sô: 216 Số cuối kỳ: 3,606,902,550 Số đầu năm: 3,606,902,550\n",
      "Mã sô: 220 Số cuối kỳ: 436,266,383,457 Số đầu năm: 450,990,034,187\n",
      "Mã sô: 221 Số cuối kỳ: 412,285,567,980 Số đầu năm: 426,100,519,859\n",
      "Mã sô: 222 Số cuối kỳ: 700,531,800,935 Số đầu năm: 699,611,800,935\n",
      "Mã sô: 223 Số cuối kỳ: -288,246,232,955 Số đầu năm: 273,511,281,076\n",
      "Mã sô: 224 Số cuối kỳ: 22,705,567,416 Số đầu năm: 23,590,199,913\n",
      "Mã sô: 225 Số cuối kỳ: 35,385,299,873 Số đầu năm: 35,385,299,873\n",
      "Mã sô: 226 Số cuối kỳ: -12,679,732,457 Số đầu năm: -11,795,099,960\n"
     ]
    }
   ],
   "source": [
    "files = gl(\"images/*\")\n",
    "img = cv2.imread(files[0], 1)\n",
    "aligned, mean_angle, img_show = document_alignment(img)\n",
    "output, aligned = infor_extract(aligned)\n",
    "show(aligned)\n",
    "keys = output.keys()\n",
    "for key in keys:\n",
    "    print(\"Mã sô:\", key, \"Số cuối kỳ:\", output[key][1][1], \"Số đầu năm:\", output[key][2][1])"
   ]
  },
  {
   "cell_type": "code",
   "execution_count": 12,
   "metadata": {
    "ExecuteTime": {
     "end_time": "2021-04-13T16:22:25.944977Z",
     "start_time": "2021-04-13T16:22:25.927978Z"
    }
   },
   "outputs": [
    {
     "name": "stdout",
     "output_type": "stream",
     "text": [
      "{'100': [[(740, 316), (790, 348)], [[(923, 313), (1133, 349)], '1,231,209,865,239'], [[(1187, 313), (1393, 349)], '1,097,379,483,771']], '110': [[(740, 352), (790, 384)], [[(955, 349), (1133, 385)], '57,858,877,402'], [[(1207, 349), (1395, 385)], '172,247,764,083']], '111': [[(740, 388), (788, 418)], [[(955, 383), (1133, 419)], '41,009,938,653'], [[(1207, 383), (1395, 421)], '162,958,693,777']], '112': [[(740, 422), (790, 454)], [[(957, 419), (1133, 455)], '16,848,938,749'], [[(1231, 419), (1397, 455)], '9,289,070,306']], '120': [[(740, 458), (790, 490)], [[(941, 455), (1131, 491)], '334,054,946,631'], [[(1205, 455), (1395, 491)], '264,299,550,814']], '123': [[(740, 564), (790, 596)], [[(941, 560), (1129, 596)], '334,054,946,631'], [[(1205, 561), (1395, 597)], '264,299,550,814']], '130': [[(740, 600), (790, 632)], [[(941, 597), (1133, 633)], '476,376,268,617'], [[(1205, 597), (1395, 633)], '352,653,082,238']], '131': [[(739, 633), (789, 669)], [[(943, 631), (1131, 667)], '182,909,298,193'], [[(1205, 628), (1396, 671)], '164,300,199,287']], '132': [[(739, 669), (791, 705)], [[(943, 667), (1131, 705)], '157,081,844,563'], [[(1217, 663), (1396, 706)], '41,957,050,878']], '135': [[(739, 775), (791, 811)], [[(953, 773), (1131, 811)], '57,971,293,683'], [[(1219, 775), (1395, 811)], '57,973,793,233']], '136': [[(739, 811), (791, 847)], [[(953, 809), (1133, 845)], '86,460,716,249'], [[(1219, 809), (1393, 847)], '96,468,922,911']], '137': [[(739, 847), (789, 883)], [[(959, 845), (1129, 881)], '-8,046,884,071'], [[(1223, 847), (1393, 883)], '-8,046,884,071']], '140': [[(737, 921), (791, 957)], [[(939, 919), (1133, 957)], '342,665,675,743'], [[(1203, 917), (1396, 959)], '293,907,403,178']], '141': [[(739, 957), (787, 993)], [[(939, 955), (1131, 993)], '342,665,675,743'], [[(1205, 955), (1395, 993)], '293,907,403,178']], '150': [[(737, 1027), (789, 1063)], [[(953, 1025), (1133, 1061)], '20,254,096,846'], [[(1219, 1027), (1395, 1063)], '14,271,683,458']], '151': [[(740, 1064), (786, 1096)], [[(987, 1061), (1131, 1097)], '535,252,727'], [[(1251, 1061), (1393, 1097)], '535,252,727']], '152': [[(737, 1097), (789, 1133)], [[(955, 1097), (1129, 1133)], '18,337,475,077'], [[(1219, 1097), (1395, 1133)], '12,097,212,698']], '153': [[(737, 1133), (789, 1169)], [[(965, 1129), (1132, 1171)], '1,381,369,042'], [[(1231, 1133), (1393, 1169)], '1,639,218,033']], '200': [[(736, 1242), (788, 1274)], [[(939, 1239), (1129, 1275)], '485,399,255,997'], [[(1201, 1237), (1396, 1279)], '467,752,451,970']], '210': [[(736, 1278), (788, 1310)], [[(965, 1275), (1131, 1311)], '3,606,902,550'], [[(1229, 1275), (1395, 1311)], '3,606,902,550']], '216': [[(734, 1494), (788, 1526)], [[(963, 1491), (1131, 1527)], '3,606,902,550'], [[(1227, 1489), (1394, 1531)], '3,606,902,550']], '220': [[(734, 1566), (786, 1598)], [[(937, 1563), (1127, 1601)], '436,266,383,457'], [[(1203, 1565), (1391, 1601)], '450,990,034,187']], '221': [[(734, 1602), (784, 1634)], [[(935, 1595), (1130, 1637)], '412,285,567,980'], [[(1203, 1599), (1391, 1635)], '426,100,519,859']], '222': [[(733, 1635), (787, 1671)], [[(937, 1633), (1129, 1671)], '700,531,800,935'], [[(1199, 1630), (1392, 1673)], '699,611,800,935']], '223': [[(734, 1672), (784, 1704)], [[(929, 1667), (1129, 1705)], '-288,246,232,955'], [[(1191, 1665), (1394, 1707)], '273,511,281,076']], '224': [[(734, 1706), (786, 1738)], [[(949, 1703), (1129, 1739)], '22,705,567,416'], [[(1213, 1705), (1391, 1741)], '23,590,199,913']], '225': [[(733, 1739), (787, 1775)], [[(949, 1737), (1127, 1775)], '35,385,299,873'], [[(1213, 1739), (1389, 1777)], '35,385,299,873']], '226': [[(732, 1778), (786, 1810)], [[(939, 1775), (1127, 1813)], '-12,679,732,457'], [[(1205, 1777), (1391, 1813)], '-11,795,099,960']]}\n"
     ]
    }
   ],
   "source": [
    "print(output)"
   ]
  }
 ],
 "metadata": {
  "kernelspec": {
   "display_name": "Python 3",
   "language": "python",
   "name": "python3"
  },
  "language_info": {
   "codemirror_mode": {
    "name": "ipython",
    "version": 3
   },
   "file_extension": ".py",
   "mimetype": "text/x-python",
   "name": "python",
   "nbconvert_exporter": "python",
   "pygments_lexer": "ipython3",
   "version": "3.7.6"
  }
 },
 "nbformat": 4,
 "nbformat_minor": 2
}
